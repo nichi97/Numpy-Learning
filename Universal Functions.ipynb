{
 "cells": [
  {
   "cell_type": "markdown",
   "metadata": {},
   "source": [
    "# Practice"
   ]
  },
  {
   "cell_type": "code",
   "execution_count": 2,
   "metadata": {},
   "outputs": [],
   "source": [
    "import numpy as np"
   ]
  },
  {
   "cell_type": "code",
   "execution_count": 7,
   "metadata": {},
   "outputs": [
    {
     "name": "stdout",
     "output_type": "stream",
     "text": [
      "[[0. 0. 0.]\n",
      " [0. 0. 0.]\n",
      " [0. 0. 0.]]\n",
      "[[1. 1. 1.]\n",
      " [1. 1. 1.]]\n"
     ]
    },
    {
     "data": {
      "text/plain": [
       "array([[0., 0., 0.],\n",
       "       [0., 0., 0.],\n",
       "       [0., 0., 0.],\n",
       "       [1., 1., 1.],\n",
       "       [1., 1., 1.]])"
      ]
     },
     "execution_count": 7,
     "metadata": {},
     "output_type": "execute_result"
    }
   ],
   "source": [
    "x = np.zeros(9).reshape((3,3))\n",
    "y = np.ones(6).reshape((2,3))\n",
    "\n",
    "print(x)\n",
    "print(y)\n",
    "\n",
    "np.concatenate([x,y],axis=0)"
   ]
  },
  {
   "cell_type": "code",
   "execution_count": 8,
   "metadata": {},
   "outputs": [
    {
     "data": {
      "text/plain": [
       "array([[0., 0., 0.],\n",
       "       [0., 0., 0.],\n",
       "       [0., 0., 0.],\n",
       "       [1., 1., 1.],\n",
       "       [1., 1., 1.]])"
      ]
     },
     "execution_count": 8,
     "metadata": {},
     "output_type": "execute_result"
    }
   ],
   "source": [
    "np.vstack((x,y))"
   ]
  },
  {
   "cell_type": "code",
   "execution_count": 9,
   "metadata": {},
   "outputs": [],
   "source": [
    "import pandas as pd\n",
    "arr = pd.read_csv(\"./data/TIV-Export-USA-1950-2019.csv\", header=None).values\n"
   ]
  },
  {
   "cell_type": "code",
   "execution_count": 10,
   "metadata": {},
   "outputs": [
    {
     "data": {
      "text/plain": [
       "array([['country', 1950.0, 1951.0, ..., 2018.0, 2019.0, 'Total'],\n",
       "       ['Afghanistan', nan, nan, ..., 331.0, 377.0, '2913'],\n",
       "       ['African Union**', nan, nan, ..., nan, nan, '2'],\n",
       "       ...,\n",
       "       ['Zimbabwe', nan, nan, ..., nan, nan, '1'],\n",
       "       [nan, nan, nan, ..., nan, nan, nan],\n",
       "       ['Total', 1429.0, 4052.0, ..., 10414.0, 10752.0, '692123']],\n",
       "      dtype=object)"
      ]
     },
     "execution_count": 10,
     "metadata": {},
     "output_type": "execute_result"
    }
   ],
   "source": [
    "arr"
   ]
  },
  {
   "cell_type": "code",
   "execution_count": 16,
   "metadata": {},
   "outputs": [
    {
     "data": {
      "text/plain": [
       "array([1950.0, 1951.0, 1952.0, 1953.0, 1954.0, 1955.0, 1956.0, 1957.0,\n",
       "       1958.0, 1959.0, 1960.0, 1961.0, 1962.0, 1963.0, 1964.0, 1965.0,\n",
       "       1966.0, 1967.0, 1968.0, 1969.0, 1970.0, 1971.0, 1972.0, 1973.0,\n",
       "       1974.0, 1975.0, 1976.0, 1977.0, 1978.0, 1979.0, 1980.0, 1981.0,\n",
       "       1982.0, 1983.0, 1984.0, 1985.0, 1986.0, 1987.0, 1988.0, 1989.0,\n",
       "       1990.0, 1991.0, 1992.0, 1993.0, 1994.0, 1995.0, 1996.0, 1997.0,\n",
       "       1998.0, 1999.0, 2000.0, 2001.0, 2002.0, 2003.0, 2004.0, 2005.0,\n",
       "       2006.0, 2007.0, 2008.0, 2009.0, 2010.0, 2011.0, 2012.0, 2013.0,\n",
       "       2014.0, 2015.0, 2016.0, 2017.0, 2018.0, 2019.0], dtype=object)"
      ]
     },
     "execution_count": 16,
     "metadata": {},
     "output_type": "execute_result"
    }
   ],
   "source": [
    "# How do you access the data so that we can access the first row - year? \n",
    "year = arr[0,1:-1]\n",
    "year\n",
    "\n"
   ]
  },
  {
   "cell_type": "code",
   "execution_count": 24,
   "metadata": {},
   "outputs": [
    {
     "data": {
      "text/plain": [
       "{'Afghanistan': 0,\n",
       " 'African Union**': 1,\n",
       " 'Albania': 2,\n",
       " 'Algeria': 3,\n",
       " 'Angola': 4,\n",
       " 'Anti-Castro rebels (Cuba)*': 5,\n",
       " 'Argentina': 6,\n",
       " 'Armas (Guatemala)*': 7,\n",
       " 'Australia': 8,\n",
       " 'Austria': 9,\n",
       " 'Azerbaijan': 10,\n",
       " 'Bahamas': 11,\n",
       " 'Bahrain': 12,\n",
       " 'Bangladesh': 13,\n",
       " 'Barbados': 14,\n",
       " 'Belgium': 15,\n",
       " 'Belize': 16,\n",
       " 'Benin': 17,\n",
       " 'Biafra': 18,\n",
       " 'Bolivia': 19,\n",
       " 'Bosnia-Herzegovina': 20,\n",
       " 'Botswana': 21,\n",
       " 'Brazil': 22,\n",
       " 'Brunei': 23,\n",
       " 'Bulgaria': 24,\n",
       " 'Burkina Faso': 25,\n",
       " 'Burundi': 26,\n",
       " 'Cambodia': 27,\n",
       " 'Cameroon': 28,\n",
       " 'Canada': 29,\n",
       " 'Central African Republic': 30,\n",
       " 'Chad': 31,\n",
       " 'Chile': 32,\n",
       " 'China': 33,\n",
       " 'Colombia': 34,\n",
       " 'Congo': 35,\n",
       " 'Contras (Nicaragua)*': 36,\n",
       " 'Costa Rica': 37,\n",
       " \"Cote d'Ivoire\": 38,\n",
       " 'Croatia': 39,\n",
       " 'Cuba': 40,\n",
       " 'Cyprus': 41,\n",
       " 'Czechia': 42,\n",
       " 'Denmark': 43,\n",
       " 'Djibouti': 44,\n",
       " 'Dominican Republic': 45,\n",
       " 'DR Congo': 46,\n",
       " 'Ecuador': 47,\n",
       " 'Egypt': 48,\n",
       " 'El Salvador': 49,\n",
       " 'Equatorial Guinea': 50,\n",
       " 'Estonia': 51,\n",
       " 'Ethiopia': 52,\n",
       " 'Fiji': 53,\n",
       " 'Finland': 54,\n",
       " 'France': 55,\n",
       " 'Gabon': 56,\n",
       " 'Georgia': 57,\n",
       " 'Germany': 58,\n",
       " 'Ghana': 59,\n",
       " 'Greece': 60,\n",
       " 'Guatemala': 61,\n",
       " 'Guinea': 62,\n",
       " 'Guyana': 63,\n",
       " 'Haiti': 64,\n",
       " 'Haiti rebels*': 65,\n",
       " 'Honduras': 66,\n",
       " 'Hungary': 67,\n",
       " 'India': 68,\n",
       " 'Indonesia': 69,\n",
       " 'Indonesia rebels*': 70,\n",
       " 'Iran': 71,\n",
       " 'Iraq': 72,\n",
       " 'Ireland': 73,\n",
       " 'Israel': 74,\n",
       " 'Italy': 75,\n",
       " 'Jamaica': 76,\n",
       " 'Japan': 77,\n",
       " 'Jordan': 78,\n",
       " 'Kazakhstan': 79,\n",
       " 'Kenya': 80,\n",
       " 'Kuwait': 81,\n",
       " 'Laos': 82,\n",
       " 'Latvia': 83,\n",
       " 'Lebanon': 84,\n",
       " 'Lesotho': 85,\n",
       " 'Liberia': 86,\n",
       " 'Libya': 87,\n",
       " 'Libya GNC': 88,\n",
       " 'Libya HoR': 89,\n",
       " 'Lithuania': 90,\n",
       " 'Luxembourg': 91,\n",
       " 'Macedonia': 92,\n",
       " 'Madagascar': 93,\n",
       " 'Malawi': 94,\n",
       " 'Malaysia': 95,\n",
       " 'Mali': 96,\n",
       " 'Malta': 97,\n",
       " 'Marshall Islands': 98,\n",
       " 'Mauritania': 99,\n",
       " 'Mauritius': 100,\n",
       " 'Mexico': 101,\n",
       " 'Micronesia': 102,\n",
       " 'Montenegro': 103,\n",
       " 'Morocco': 104,\n",
       " 'Mujahedin (Afghanistan)*': 105,\n",
       " 'Myanmar': 106,\n",
       " 'Namibia': 107,\n",
       " 'NATO**': 108,\n",
       " 'Nepal': 109,\n",
       " 'Netherlands': 110,\n",
       " 'New Zealand': 111,\n",
       " 'Nicaragua': 112,\n",
       " 'Niger': 113,\n",
       " 'Nigeria': 114,\n",
       " 'North Korea': 115,\n",
       " 'North Yemen': 116,\n",
       " 'Norway': 117,\n",
       " 'Oman': 118,\n",
       " 'Pakistan': 119,\n",
       " 'Palau': 120,\n",
       " 'Panama': 121,\n",
       " 'Papua New Guinea': 122,\n",
       " 'Paraguay': 123,\n",
       " 'Peru': 124,\n",
       " 'Philippines': 125,\n",
       " 'Poland': 126,\n",
       " 'Portugal': 127,\n",
       " 'Qatar': 128,\n",
       " 'Regional Security System**': 129,\n",
       " 'Romania': 130,\n",
       " 'Rwanda': 131,\n",
       " 'Saint Kitts and Nevis': 132,\n",
       " 'Saint Vincent': 133,\n",
       " 'Saudi Arabia': 134,\n",
       " 'Senegal': 135,\n",
       " 'Serbia': 136,\n",
       " 'Seychelles': 137,\n",
       " 'Sierra Leone': 138,\n",
       " 'Singapore': 139,\n",
       " 'Slovakia': 140,\n",
       " 'Slovenia': 141,\n",
       " 'Somalia': 142,\n",
       " 'South Africa': 143,\n",
       " 'South Korea': 144,\n",
       " 'South Sudan': 145,\n",
       " 'South Vietnam': 146,\n",
       " 'Spain': 147,\n",
       " 'Sri Lanka': 148,\n",
       " 'Sudan': 149,\n",
       " 'Suriname': 150,\n",
       " 'Sweden': 151,\n",
       " 'Switzerland': 152,\n",
       " 'Syria': 153,\n",
       " 'Syria rebels*': 154,\n",
       " 'Taiwan': 155,\n",
       " 'Tanzania': 156,\n",
       " 'Thailand': 157,\n",
       " 'Togo': 158,\n",
       " 'Tonga': 159,\n",
       " 'Trinidad and Tobago': 160,\n",
       " 'Tunisia': 161,\n",
       " 'Turkey': 162,\n",
       " 'UAE': 163,\n",
       " 'Uganda': 164,\n",
       " 'Ukraine': 165,\n",
       " 'UNITA (Angola)*': 166,\n",
       " 'United Kingdom': 167,\n",
       " 'United Nations**': 168,\n",
       " 'Unknown recipient(s)': 169,\n",
       " 'Uruguay': 170,\n",
       " 'Uzbekistan': 171,\n",
       " 'Venezuela': 172,\n",
       " 'Viet Nam': 173,\n",
       " 'Yemen': 174,\n",
       " 'Yugoslavia': 175,\n",
       " 'Zambia': 176,\n",
       " 'Zimbabwe': 177}"
      ]
     },
     "execution_count": 24,
     "metadata": {},
     "output_type": "execute_result"
    }
   ],
   "source": [
    "# How do you get the first column so that we can save all country names?\n",
    "countries = arr[1:-2,0]\n",
    "countries\n",
    "\n",
    "idxToCountries = {countries[i]:i for i in range(len(countries))}\n",
    "idxToCountries\n",
    "\n",
    "# How to select the record for Indonesia?\n",
    "\n",
    "# How to find out the country that imported most weapon from America all these years?\n",
    "\n",
    "# How to find the year that America exported most weapon?"
   ]
  },
  {
   "cell_type": "code",
   "execution_count": 25,
   "metadata": {},
   "outputs": [
    {
     "data": {
      "text/plain": [
       "array([['country', 1950.0, 1951.0, ..., 2018.0, 2019.0, 'Total'],\n",
       "       ['Afghanistan', nan, nan, ..., 331.0, 377.0, '2913'],\n",
       "       ['African Union**', nan, nan, ..., nan, nan, '2'],\n",
       "       ...,\n",
       "       ['Zimbabwe', nan, nan, ..., nan, nan, '1'],\n",
       "       [nan, nan, nan, ..., nan, nan, nan],\n",
       "       ['Total', 1429.0, 4052.0, ..., 10414.0, 10752.0, '692123']],\n",
       "      dtype=object)"
      ]
     },
     "execution_count": 25,
     "metadata": {},
     "output_type": "execute_result"
    }
   ],
   "source": [
    "arr"
   ]
  },
  {
   "cell_type": "code",
   "execution_count": 26,
   "metadata": {},
   "outputs": [],
   "source": [
    "arr = arr[1:-1, 1:-1]"
   ]
  },
  {
   "cell_type": "code",
   "execution_count": 27,
   "metadata": {},
   "outputs": [
    {
     "data": {
      "text/plain": [
       "array([[nan, nan, nan, ..., 251.0, 331.0, 377.0],\n",
       "       [nan, nan, nan, ..., nan, nan, nan],\n",
       "       [nan, nan, nan, ..., 4.0, 1.0, 5.0],\n",
       "       ...,\n",
       "       [nan, nan, nan, ..., nan, nan, 6.0],\n",
       "       [nan, nan, nan, ..., nan, nan, nan],\n",
       "       [nan, nan, nan, ..., nan, nan, nan]], dtype=object)"
      ]
     },
     "execution_count": 27,
     "metadata": {},
     "output_type": "execute_result"
    }
   ],
   "source": [
    "arr"
   ]
  },
  {
   "cell_type": "code",
   "execution_count": 29,
   "metadata": {},
   "outputs": [
    {
     "data": {
      "text/plain": [
       "69"
      ]
     },
     "execution_count": 29,
     "metadata": {},
     "output_type": "execute_result"
    }
   ],
   "source": [
    "IndonesiaIdx = idxToCountries['Indonesia']\n",
    "IndonesiaIdx"
   ]
  },
  {
   "cell_type": "code",
   "execution_count": 31,
   "metadata": {},
   "outputs": [
    {
     "data": {
      "text/plain": [
       "array([0.0, 0.0, 0.0, 6.0, 0.0, 1.0, nan, 14.0, 59.0, nan, 179.0, 184.0,\n",
       "       15.0, 3.0, 2.0, 1.0, 7.0, 1.0, 1.0, 1.0, 20.0, 86.0, 5.0, 46.0,\n",
       "       71.0, nan, 82.0, 50.0, 85.0, 56.0, 315.0, 87.0, 187.0, 122.0, 24.0,\n",
       "       11.0, 22.0, 0.0, 60.0, 64.0, 188.0, 2.0, nan, 4.0, 4.0, 4.0, 19.0,\n",
       "       23.0, 8.0, 24.0, 4.0, 4.0, 4.0, 8.0, 4.0, 4.0, 11.0, 17.0, 14.0,\n",
       "       nan, nan, 0.0, 35.0, 85.0, 150.0, 82.0, 94.0, 246.0, 90.0, 2.0],\n",
       "      dtype=object)"
      ]
     },
     "execution_count": 31,
     "metadata": {},
     "output_type": "execute_result"
    }
   ],
   "source": [
    "arr[idxToCountries['Indonesia'], :]"
   ]
  },
  {
   "cell_type": "markdown",
   "metadata": {},
   "source": [
    "# Slowness of Loops"
   ]
  },
  {
   "cell_type": "code",
   "execution_count": 33,
   "metadata": {},
   "outputs": [
    {
     "name": "stdout",
     "output_type": "stream",
     "text": [
      "[6 1 4 4 8]\n",
      "[0.16666667 1.         0.25       0.25       0.125     ]\n"
     ]
    }
   ],
   "source": [
    "import numpy as np\n",
    "np.random.seed(0)\n",
    "\n",
    "def compute_reciprocals(values):\n",
    "    output = np.empty(len(values))\n",
    "    for i in range(len(values)):\n",
    "        output[i] = 1.0 / values[i]\n",
    "    return output\n",
    "print(values)       \n",
    "values = np.random.randint(1, 10, size=5)\n",
    "print(compute_reciprocals(values))"
   ]
  },
  {
   "cell_type": "code",
   "execution_count": 34,
   "metadata": {},
   "outputs": [
    {
     "name": "stdout",
     "output_type": "stream",
     "text": [
      "4.2 s ± 423 ms per loop (mean ± std. dev. of 7 runs, 1 loop each)\n"
     ]
    }
   ],
   "source": [
    "big_array = np.random.randint(1,100, size=1000000)\n",
    "%timeit compute_reciprocals(big_array)"
   ]
  },
  {
   "cell_type": "markdown",
   "metadata": {},
   "source": [
    "This seems really SLOW!!! Most of times are wasted doing type checks... What if we have something that are all of fixed type??"
   ]
  },
  {
   "cell_type": "code",
   "execution_count": 35,
   "metadata": {},
   "outputs": [
    {
     "name": "stdout",
     "output_type": "stream",
     "text": [
      "Compute reciprocals using List and for loop:  [0.16666667 1.         0.25       0.25       0.125     ]\n",
      "Compute reciprocals using universal function:  [0.16666667 1.         0.25       0.25       0.125     ]\n"
     ]
    }
   ],
   "source": [
    "print(\"Compute reciprocals using List and for loop: \" ,compute_reciprocals(values))\n",
    "print(\"Compute reciprocals using universal function: \", 1.0 / values)"
   ]
  },
  {
   "cell_type": "code",
   "execution_count": 36,
   "metadata": {},
   "outputs": [
    {
     "name": "stdout",
     "output_type": "stream",
     "text": [
      "6.23 ms ± 421 µs per loop (mean ± std. dev. of 7 runs, 100 loops each)\n"
     ]
    }
   ],
   "source": [
    "%timeit (1.0 / big_array)"
   ]
  },
  {
   "cell_type": "markdown",
   "metadata": {},
   "source": [
    "And it is very flexible, we can try to operate between two arrays:"
   ]
  },
  {
   "cell_type": "code",
   "execution_count": 37,
   "metadata": {},
   "outputs": [
    {
     "data": {
      "text/plain": [
       "array([0.        , 0.5       , 0.66666667, 0.75      , 0.8       ])"
      ]
     },
     "execution_count": 37,
     "metadata": {},
     "output_type": "execute_result"
    }
   ],
   "source": [
    "np.arange(5) / np.arange(1,6)"
   ]
  },
  {
   "cell_type": "markdown",
   "metadata": {},
   "source": [
    "In 2-d array as well:"
   ]
  },
  {
   "cell_type": "code",
   "execution_count": 38,
   "metadata": {},
   "outputs": [
    {
     "data": {
      "text/plain": [
       "array([[  1,   2,   4],\n",
       "       [  8,  16,  32],\n",
       "       [ 64, 128, 256]], dtype=int32)"
      ]
     },
     "execution_count": 38,
     "metadata": {},
     "output_type": "execute_result"
    }
   ],
   "source": [
    "x = np.arange(9).reshape((3,3))\n",
    "2 ** x"
   ]
  },
  {
   "cell_type": "markdown",
   "metadata": {},
   "source": [
    "# Explore NumPy's UFuncs"
   ]
  },
  {
   "cell_type": "markdown",
   "metadata": {},
   "source": [
    "## Array arithmetic"
   ]
  },
  {
   "cell_type": "code",
   "execution_count": 39,
   "metadata": {},
   "outputs": [
    {
     "name": "stdout",
     "output_type": "stream",
     "text": [
      "x     = [0 1 2 3]\n",
      "x + 5 = [5 6 7 8]\n",
      "x - 5 = [-5 -4 -3 -2]\n",
      "x * 2 = [0 2 4 6]\n",
      "x / 2 = [0.  0.5 1.  1.5]\n",
      "x // 2 = [0 0 1 1]\n",
      "-x     =  [ 0 -1 -2 -3]\n",
      "x ** 2 =  [0 1 4 9]\n",
      "x % 2  =  [0 1 0 1]\n"
     ]
    }
   ],
   "source": [
    "x = np.arange(4)\n",
    "print(\"x     =\", x)\n",
    "print(\"x + 5 =\", x + 5)\n",
    "print(\"x - 5 =\", x - 5)\n",
    "print(\"x * 2 =\", x * 2)\n",
    "print(\"x / 2 =\", x / 2)\n",
    "print(\"x // 2 =\", x // 2)  # floor division\n",
    "print(\"-x     = \", -x)\n",
    "print(\"x ** 2 = \", x ** 2)\n",
    "print(\"x % 2  = \", x % 2)"
   ]
  },
  {
   "attachments": {
    "image.png": {
     "image/png": "[encoded data removed]"
    }
   },
   "cell_type": "markdown",
   "metadata": {},
   "source": [
    "![image.png](attachment:image.png)"
   ]
  },
  {
   "cell_type": "markdown",
   "metadata": {},
   "source": [
    "## Absolute value"
   ]
  },
  {
   "cell_type": "code",
   "execution_count": 40,
   "metadata": {},
   "outputs": [
    {
     "data": {
      "text/plain": [
       "array([2, 1, 0, 1, 2])"
      ]
     },
     "execution_count": 40,
     "metadata": {},
     "output_type": "execute_result"
    }
   ],
   "source": [
    "x = np.array([-2, -1, 0, 1, 2])\n",
    "np.abs(x)"
   ]
  },
  {
   "cell_type": "markdown",
   "metadata": {},
   "source": [
    "## Trig Functions"
   ]
  },
  {
   "cell_type": "code",
   "execution_count": 42,
   "metadata": {},
   "outputs": [
    {
     "name": "stdout",
     "output_type": "stream",
     "text": [
      "theta      =  [0.         1.57079633 3.14159265]\n",
      "sin(theta) =  [0.0000000e+00 1.0000000e+00 1.2246468e-16]\n",
      "cos(theta) =  [ 1.000000e+00  6.123234e-17 -1.000000e+00]\n",
      "tan(theta) =  [ 0.00000000e+00  1.63312394e+16 -1.22464680e-16]\n"
     ]
    }
   ],
   "source": [
    "theta = np.linspace(0, np.pi, 3)\n",
    "print(\"theta      = \", theta)\n",
    "print(\"sin(theta) = \", np.sin(theta))\n",
    "print(\"cos(theta) = \", np.cos(theta))\n",
    "print(\"tan(theta) = \", np.tan(theta))"
   ]
  },
  {
   "cell_type": "code",
   "execution_count": 43,
   "metadata": {},
   "outputs": [
    {
     "name": "stdout",
     "output_type": "stream",
     "text": [
      "x         =  [-1, 0, 1]\n",
      "arcsin(x) =  [-1.57079633  0.          1.57079633]\n",
      "arccos(x) =  [3.14159265 1.57079633 0.        ]\n",
      "arctan(x) =  [-0.78539816  0.          0.78539816]\n"
     ]
    }
   ],
   "source": [
    "x = [-1, 0, 1]\n",
    "print(\"x         = \", x)\n",
    "print(\"arcsin(x) = \", np.arcsin(x))\n",
    "print(\"arccos(x) = \", np.arccos(x))\n",
    "print(\"arctan(x) = \", np.arctan(x))"
   ]
  },
  {
   "cell_type": "markdown",
   "metadata": {},
   "source": [
    "**Practice:** Get the value of cosine and sine at 0, $\\pi/2$, $\\pi$, $3 \\pi / 2$, $2\\pi$ using universal function and `linspace`"
   ]
  },
  {
   "cell_type": "code",
   "execution_count": 47,
   "metadata": {},
   "outputs": [
    {
     "data": {
      "text/plain": [
       "array([0.        , 1.57079633, 3.14159265, 4.71238898, 6.28318531])"
      ]
     },
     "execution_count": 47,
     "metadata": {},
     "output_type": "execute_result"
    }
   ],
   "source": [
    "x = np.linspace(0,2 * np.pi, 5)\n",
    "x"
   ]
  },
  {
   "cell_type": "markdown",
   "metadata": {},
   "source": [
    "**Practice:** Plotting the graph of cos and sin"
   ]
  },
  {
   "cell_type": "code",
   "execution_count": 54,
   "metadata": {
    "scrolled": true
   },
   "outputs": [
    {
     "data": {
      "text/plain": [
       "[<matplotlib.lines.Line2D at 0x26c28636820>]"
      ]
     },
     "execution_count": 54,
     "metadata": {},
     "output_type": "execute_result"
    },
    {
     "data": {
      "image/png": "[encoded data removed]",
      "text/plain": [
       "<Figure size 432x288 with 1 Axes>"
      ]
     },
     "metadata": {
      "needs_background": "light"
     },
     "output_type": "display_data"
    }
   ],
   "source": [
    "import matplotlib.pyplot as plt\n",
    "# partition [-2pi, 2pi] into 1000 parts\n",
    "x = np.linspace(-2 * np.pi, 2 * np.pi, 50)\n",
    "\n",
    "# calculate its sine and cosine value\n",
    "sinVal = np.sin(x)\n",
    "cosVal = np.cos(x)\n",
    "\n",
    "plt.plot(x,sinVal)\n",
    "plt.plot(x,cosVal)"
   ]
  },
  {
   "cell_type": "markdown",
   "metadata": {},
   "source": [
    "## Exponentials and Logarithms"
   ]
  },
  {
   "cell_type": "code",
   "execution_count": 55,
   "metadata": {},
   "outputs": [
    {
     "name": "stdout",
     "output_type": "stream",
     "text": [
      "x     = [1, 2, 3]\n",
      "e^x   = [ 2.71828183  7.3890561  20.08553692]\n",
      "2^x   = [2. 4. 8.]\n",
      "3^x   = [ 3  9 27]\n"
     ]
    }
   ],
   "source": [
    "x = [1, 2, 3]\n",
    "print(\"x     =\", x)\n",
    "print(\"e^x   =\", np.exp(x))\n",
    "print(\"2^x   =\", np.exp2(x))\n",
    "print(\"3^x   =\", np.power(3, x))"
   ]
  },
  {
   "cell_type": "code",
   "execution_count": 56,
   "metadata": {},
   "outputs": [
    {
     "name": "stdout",
     "output_type": "stream",
     "text": [
      "x        = [1, 2, 4, 10]\n",
      "ln(x)    = [0.         0.69314718 1.38629436 2.30258509]\n",
      "log2(x)  = [0.         1.         2.         3.32192809]\n",
      "log10(x) = [0.         0.30103    0.60205999 1.        ]\n"
     ]
    }
   ],
   "source": [
    "x = [1, 2, 4, 10]\n",
    "print(\"x        =\", x)\n",
    "print(\"ln(x)    =\", np.log(x))\n",
    "print(\"log2(x)  =\", np.log2(x))\n",
    "print(\"log10(x) =\", np.log10(x))"
   ]
  },
  {
   "cell_type": "markdown",
   "metadata": {},
   "source": [
    "**Practice:** Using numpy array and universal function, find out the first integer whose square root is bigger than 21.35"
   ]
  },
  {
   "cell_type": "markdown",
   "metadata": {},
   "source": [
    "## Aggregates"
   ]
  },
  {
   "cell_type": "markdown",
   "metadata": {},
   "source": [
    "For each universal function, we have the capability to call `reduce` and `accumulate` and `outer`. "
   ]
  },
  {
   "cell_type": "markdown",
   "metadata": {},
   "source": [
    "`Reduce` method repeated applies a give noperation to the elements of an array until only a single result remains"
   ]
  },
  {
   "cell_type": "code",
   "execution_count": 64,
   "metadata": {},
   "outputs": [
    {
     "name": "stdout",
     "output_type": "stream",
     "text": [
      "[1 2 3 4 5]\n"
     ]
    },
    {
     "data": {
      "text/plain": [
       "15"
      ]
     },
     "execution_count": 64,
     "metadata": {},
     "output_type": "execute_result"
    }
   ],
   "source": [
    "x = np.arange(1,6)\n",
    "print(x)\n",
    "np.add.reduce(x)"
   ]
  },
  {
   "cell_type": "markdown",
   "metadata": {},
   "source": [
    "`accumulate` store all the intermediate results of the computation"
   ]
  },
  {
   "cell_type": "code",
   "execution_count": 66,
   "metadata": {},
   "outputs": [
    {
     "name": "stdout",
     "output_type": "stream",
     "text": [
      "[1 2 3 4 5]\n"
     ]
    },
    {
     "data": {
      "text/plain": [
       "array([ 1,  3,  6, 10, 15], dtype=int32)"
      ]
     },
     "execution_count": 66,
     "metadata": {},
     "output_type": "execute_result"
    }
   ],
   "source": [
    "print(x)\n",
    "np.add.accumulate(x)"
   ]
  },
  {
   "cell_type": "code",
   "execution_count": 67,
   "metadata": {},
   "outputs": [
    {
     "data": {
      "text/plain": [
       "120"
      ]
     },
     "execution_count": 67,
     "metadata": {},
     "output_type": "execute_result"
    }
   ],
   "source": [
    "np.multiply.reduce(x)"
   ]
  },
  {
   "cell_type": "code",
   "execution_count": 68,
   "metadata": {},
   "outputs": [
    {
     "data": {
      "text/plain": [
       "array([  1,   2,   6,  24, 120], dtype=int32)"
      ]
     },
     "execution_count": 68,
     "metadata": {},
     "output_type": "execute_result"
    }
   ],
   "source": [
    "np.multiply.accumulate(x)"
   ]
  },
  {
   "cell_type": "code",
   "execution_count": null,
   "metadata": {},
   "outputs": [],
   "source": [
    "def myfunc(a, b):\n",
    "    \"Return a-b if a>b, otherwise return a+b\"\n",
    "    if a > b:\n",
    "        return a - b\n",
    "    else:\n",
    "        return a + b"
   ]
  },
  {
   "cell_type": "markdown",
   "metadata": {},
   "source": [
    "## Outer Product"
   ]
  },
  {
   "cell_type": "markdown",
   "metadata": {},
   "source": [
    "`outer` allows you to compute output of all pairs of two inputs"
   ]
  },
  {
   "cell_type": "code",
   "execution_count": 69,
   "metadata": {},
   "outputs": [
    {
     "data": {
      "text/plain": [
       "array([[ 1,  2,  3,  4,  5],\n",
       "       [ 2,  4,  6,  8, 10],\n",
       "       [ 3,  6,  9, 12, 15],\n",
       "       [ 4,  8, 12, 16, 20],\n",
       "       [ 5, 10, 15, 20, 25]])"
      ]
     },
     "execution_count": 69,
     "metadata": {},
     "output_type": "execute_result"
    }
   ],
   "source": [
    "x = np.arange(1,6)\n",
    "np.multiply.outer(x,x)"
   ]
  }
 ],
 "metadata": {
  "kernelspec": {
   "display_name": "Python 3.8.3 64-bit",
   "language": "python",
   "name": "python38364bit270358c0458143a884e3f176124925c5"
  },
  "language_info": {
   "codemirror_mode": {
    "name": "ipython",
    "version": 3
   },
   "file_extension": ".py",
   "mimetype": "text/x-python",
   "name": "python",
   "nbconvert_exporter": "python",
   "pygments_lexer": "ipython3",
   "version": "3.8.3"
  }
 },
 "nbformat": 4,
 "nbformat_minor": 4
}
