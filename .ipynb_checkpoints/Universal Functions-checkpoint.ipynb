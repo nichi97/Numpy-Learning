{
 "cells": [
  {
   "cell_type": "markdown",
   "metadata": {},
   "source": [
    "# Practice"
   ]
  },
  {
   "cell_type": "code",
   "execution_count": 27,
   "metadata": {},
   "outputs": [],
   "source": [
    "import pandas as pd\n",
    "arr = pd.read_csv(\"./data/TIV-Export-USA-1950-2019.csv\", header=None).values\n",
    "\n",
    "# How do you access the data so that we can access the first row - year? \n",
    "\n",
    "# How do you get the first column so that we can save all country names?\n",
    "\n",
    "# How to select the record for Indonesia?\n",
    "\n",
    "# How to find out the country that imported most weapon from America all these years?\n",
    "\n",
    "# How to find the year that America exported most weapon?\n",
    "\n",
    "# countryIdx = {i:countries[i] for i in range(len(countries))}"
   ]
  },
  {
   "cell_type": "code",
   "execution_count": 28,
   "metadata": {},
   "outputs": [],
   "source": [
    "time = arr[0,:]"
   ]
  },
  {
   "cell_type": "code",
   "execution_count": 29,
   "metadata": {},
   "outputs": [
    {
     "data": {
      "text/plain": [
       "array(['country', 1950.0, 1951.0, 1952.0, 1953.0, 1954.0, 1955.0, 1956.0,\n",
       "       1957.0, 1958.0, 1959.0, 1960.0, 1961.0, 1962.0, 1963.0, 1964.0,\n",
       "       1965.0, 1966.0, 1967.0, 1968.0, 1969.0, 1970.0, 1971.0, 1972.0,\n",
       "       1973.0, 1974.0, 1975.0, 1976.0, 1977.0, 1978.0, 1979.0, 1980.0,\n",
       "       1981.0, 1982.0, 1983.0, 1984.0, 1985.0, 1986.0, 1987.0, 1988.0,\n",
       "       1989.0, 1990.0, 1991.0, 1992.0, 1993.0, 1994.0, 1995.0, 1996.0,\n",
       "       1997.0, 1998.0, 1999.0, 2000.0, 2001.0, 2002.0, 2003.0, 2004.0,\n",
       "       2005.0, 2006.0, 2007.0, 2008.0, 2009.0, 2010.0, 2011.0, 2012.0,\n",
       "       2013.0, 2014.0, 2015.0, 2016.0, 2017.0, 2018.0, 2019.0, 'Total'],\n",
       "      dtype=object)"
      ]
     },
     "execution_count": 29,
     "metadata": {},
     "output_type": "execute_result"
    }
   ],
   "source": [
    "time"
   ]
  },
  {
   "cell_type": "code",
   "execution_count": 24,
   "metadata": {},
   "outputs": [
    {
     "data": {
      "text/plain": [
       "array(['Afghanistan', nan, nan, nan, nan, nan, nan, nan, nan, nan, nan,\n",
       "       nan, nan, nan, nan, nan, nan, nan, nan, nan, nan, nan, nan, nan,\n",
       "       nan, nan, nan, nan, nan, nan, nan, nan, nan, nan, nan, nan, nan,\n",
       "       nan, nan, nan, nan, nan, nan, nan, nan, nan, nan, nan, nan, nan,\n",
       "       nan, nan, nan, nan, nan, nan, 19.0, nan, 22.0, 78.0, 280.0, 245.0,\n",
       "       520.0, 410.0, 144.0, 69.0, 94.0, 72.0, 251.0, 331.0, 377.0, 2913.0],\n",
       "      dtype=object)"
      ]
     },
     "execution_count": 24,
     "metadata": {},
     "output_type": "execute_result"
    }
   ],
   "source": [
    "time"
   ]
  },
  {
   "cell_type": "code",
   "execution_count": 22,
   "metadata": {},
   "outputs": [
    {
     "data": {
      "text/plain": [
       "{0: 'Afghanistan',\n",
       " 1: 'African Union**',\n",
       " 2: 'Albania',\n",
       " 3: 'Algeria',\n",
       " 4: 'Angola',\n",
       " 5: 'Anti-Castro rebels (Cuba)*',\n",
       " 6: 'Argentina',\n",
       " 7: 'Armas (Guatemala)*',\n",
       " 8: 'Australia',\n",
       " 9: 'Austria',\n",
       " 10: 'Azerbaijan',\n",
       " 11: 'Bahamas',\n",
       " 12: 'Bahrain',\n",
       " 13: 'Bangladesh',\n",
       " 14: 'Barbados',\n",
       " 15: 'Belgium',\n",
       " 16: 'Belize',\n",
       " 17: 'Benin',\n",
       " 18: 'Biafra',\n",
       " 19: 'Bolivia',\n",
       " 20: 'Bosnia-Herzegovina',\n",
       " 21: 'Botswana',\n",
       " 22: 'Brazil',\n",
       " 23: 'Brunei',\n",
       " 24: 'Bulgaria',\n",
       " 25: 'Burkina Faso',\n",
       " 26: 'Burundi',\n",
       " 27: 'Cambodia',\n",
       " 28: 'Cameroon',\n",
       " 29: 'Canada',\n",
       " 30: 'Central African Republic',\n",
       " 31: 'Chad',\n",
       " 32: 'Chile',\n",
       " 33: 'China',\n",
       " 34: 'Colombia',\n",
       " 35: 'Congo',\n",
       " 36: 'Contras (Nicaragua)*',\n",
       " 37: 'Costa Rica',\n",
       " 38: \"Cote d'Ivoire\",\n",
       " 39: 'Croatia',\n",
       " 40: 'Cuba',\n",
       " 41: 'Cyprus',\n",
       " 42: 'Czechia',\n",
       " 43: 'Denmark',\n",
       " 44: 'Djibouti',\n",
       " 45: 'Dominican Republic',\n",
       " 46: 'DR Congo',\n",
       " 47: 'Ecuador',\n",
       " 48: 'Egypt',\n",
       " 49: 'El Salvador',\n",
       " 50: 'Equatorial Guinea',\n",
       " 51: 'Estonia',\n",
       " 52: 'Ethiopia',\n",
       " 53: 'Fiji',\n",
       " 54: 'Finland',\n",
       " 55: 'France',\n",
       " 56: 'Gabon',\n",
       " 57: 'Georgia',\n",
       " 58: 'Germany',\n",
       " 59: 'Ghana',\n",
       " 60: 'Greece',\n",
       " 61: 'Guatemala',\n",
       " 62: 'Guinea',\n",
       " 63: 'Guyana',\n",
       " 64: 'Haiti',\n",
       " 65: 'Haiti rebels*',\n",
       " 66: 'Honduras',\n",
       " 67: 'Hungary',\n",
       " 68: 'India',\n",
       " 69: 'Indonesia',\n",
       " 70: 'Indonesia rebels*',\n",
       " 71: 'Iran',\n",
       " 72: 'Iraq',\n",
       " 73: 'Ireland',\n",
       " 74: 'Israel',\n",
       " 75: 'Italy',\n",
       " 76: 'Jamaica',\n",
       " 77: 'Japan',\n",
       " 78: 'Jordan',\n",
       " 79: 'Kazakhstan',\n",
       " 80: 'Kenya',\n",
       " 81: 'Kuwait',\n",
       " 82: 'Laos',\n",
       " 83: 'Latvia',\n",
       " 84: 'Lebanon',\n",
       " 85: 'Lesotho',\n",
       " 86: 'Liberia',\n",
       " 87: 'Libya',\n",
       " 88: 'Libya GNC',\n",
       " 89: 'Libya HoR',\n",
       " 90: 'Lithuania',\n",
       " 91: 'Luxembourg',\n",
       " 92: 'Macedonia',\n",
       " 93: 'Madagascar',\n",
       " 94: 'Malawi',\n",
       " 95: 'Malaysia',\n",
       " 96: 'Mali',\n",
       " 97: 'Malta',\n",
       " 98: 'Marshall Islands',\n",
       " 99: 'Mauritania',\n",
       " 100: 'Mauritius',\n",
       " 101: 'Mexico',\n",
       " 102: 'Micronesia',\n",
       " 103: 'Montenegro',\n",
       " 104: 'Morocco',\n",
       " 105: 'Mujahedin (Afghanistan)*',\n",
       " 106: 'Myanmar',\n",
       " 107: 'Namibia',\n",
       " 108: 'NATO**',\n",
       " 109: 'Nepal',\n",
       " 110: 'Netherlands',\n",
       " 111: 'New Zealand',\n",
       " 112: 'Nicaragua',\n",
       " 113: 'Niger',\n",
       " 114: 'Nigeria',\n",
       " 115: 'North Korea',\n",
       " 116: 'North Yemen',\n",
       " 117: 'Norway',\n",
       " 118: 'Oman',\n",
       " 119: 'Pakistan',\n",
       " 120: 'Palau',\n",
       " 121: 'Panama',\n",
       " 122: 'Papua New Guinea',\n",
       " 123: 'Paraguay',\n",
       " 124: 'Peru',\n",
       " 125: 'Philippines',\n",
       " 126: 'Poland',\n",
       " 127: 'Portugal',\n",
       " 128: 'Qatar',\n",
       " 129: 'Regional Security System**',\n",
       " 130: 'Romania',\n",
       " 131: 'Rwanda',\n",
       " 132: 'Saint Kitts and Nevis',\n",
       " 133: 'Saint Vincent',\n",
       " 134: 'Saudi Arabia',\n",
       " 135: 'Senegal',\n",
       " 136: 'Serbia',\n",
       " 137: 'Seychelles',\n",
       " 138: 'Sierra Leone',\n",
       " 139: 'Singapore',\n",
       " 140: 'Slovakia',\n",
       " 141: 'Slovenia',\n",
       " 142: 'Somalia',\n",
       " 143: 'South Africa',\n",
       " 144: 'South Korea',\n",
       " 145: 'South Sudan',\n",
       " 146: 'South Vietnam',\n",
       " 147: 'Spain',\n",
       " 148: 'Sri Lanka',\n",
       " 149: 'Sudan',\n",
       " 150: 'Suriname',\n",
       " 151: 'Sweden',\n",
       " 152: 'Switzerland',\n",
       " 153: 'Syria',\n",
       " 154: 'Syria rebels*',\n",
       " 155: 'Taiwan',\n",
       " 156: 'Tanzania',\n",
       " 157: 'Thailand',\n",
       " 158: 'Togo',\n",
       " 159: 'Tonga',\n",
       " 160: 'Trinidad and Tobago',\n",
       " 161: 'Tunisia',\n",
       " 162: 'Turkey',\n",
       " 163: 'UAE',\n",
       " 164: 'Uganda',\n",
       " 165: 'Ukraine',\n",
       " 166: 'UNITA (Angola)*',\n",
       " 167: 'United Kingdom',\n",
       " 168: 'United Nations**',\n",
       " 169: 'Unknown recipient(s)',\n",
       " 170: 'Uruguay',\n",
       " 171: 'Uzbekistan',\n",
       " 172: 'Venezuela',\n",
       " 173: 'Viet Nam',\n",
       " 174: 'Yemen',\n",
       " 175: 'Yugoslavia',\n",
       " 176: 'Zambia',\n",
       " 177: 'Zimbabwe',\n",
       " 178: nan,\n",
       " 179: 'Total'}"
      ]
     },
     "execution_count": 22,
     "metadata": {},
     "output_type": "execute_result"
    }
   ],
   "source": [
    "countryIdx"
   ]
  },
  {
   "cell_type": "code",
   "execution_count": 11,
   "metadata": {},
   "outputs": [
    {
     "data": {
      "text/plain": [
       "array([['Afghanistan', nan, nan, ..., 331.0, 377.0, 2913.0],\n",
       "       ['African Union**', nan, nan, ..., nan, nan, 2.0],\n",
       "       ['Albania', nan, nan, ..., 1.0, 5.0, 9.0],\n",
       "       ...,\n",
       "       ['Zimbabwe', nan, nan, ..., nan, nan, 1.0],\n",
       "       [nan, nan, nan, ..., nan, nan, nan],\n",
       "       ['Total', 1429.0, 4052.0, ..., 10414.0, 10752.0, 692123.0]],\n",
       "      dtype=object)"
      ]
     },
     "execution_count": 11,
     "metadata": {},
     "output_type": "execute_result"
    }
   ],
   "source": [
    "arr"
   ]
  },
  {
   "cell_type": "markdown",
   "metadata": {},
   "source": [
    "# Slowness of Loops"
   ]
  },
  {
   "cell_type": "code",
   "execution_count": 1,
   "metadata": {},
   "outputs": [
    {
     "data": {
      "text/plain": [
       "array([0.16666667, 1.        , 0.25      , 0.25      , 0.125     ])"
      ]
     },
     "execution_count": 1,
     "metadata": {},
     "output_type": "execute_result"
    }
   ],
   "source": [
    "import numpy as np\n",
    "np.random.seed(0)\n",
    "\n",
    "def compute_reciprocals(values):\n",
    "    output = np.empty(len(values))\n",
    "    for i in range(len(values)):\n",
    "        output[i] = 1.0 / values[i]\n",
    "    return output\n",
    "        \n",
    "values = np.random.randint(1, 10, size=5)\n",
    "compute_reciprocals(values)"
   ]
  },
  {
   "cell_type": "code",
   "execution_count": 2,
   "metadata": {},
   "outputs": [
    {
     "name": "stdout",
     "output_type": "stream",
     "text": [
      "6.66 s ± 378 ms per loop (mean ± std. dev. of 7 runs, 1 loop each)\n"
     ]
    }
   ],
   "source": [
    "big_array = np.random.randint(1,100, size=1000000)\n",
    "%timeit compute_reciprocals(big_array)"
   ]
  },
  {
   "cell_type": "markdown",
   "metadata": {},
   "source": [
    "This seems really SLOW!!! Most of times are wasted doing type checks... What if we have something that are all of fixed type??"
   ]
  },
  {
   "cell_type": "code",
   "execution_count": 4,
   "metadata": {},
   "outputs": [
    {
     "name": "stdout",
     "output_type": "stream",
     "text": [
      "[0.16666667 1.         0.25       0.25       0.125     ]\n",
      "[0.16666667 1.         0.25       0.25       0.125     ]\n"
     ]
    }
   ],
   "source": [
    "print(\"Compute reciprocals using List and for loop: \" ,compute_reciprocals(values))\n",
    "print(\"Compute reciprocals using universal function: \", 1.0 / values)"
   ]
  },
  {
   "cell_type": "code",
   "execution_count": 3,
   "metadata": {},
   "outputs": [
    {
     "name": "stdout",
     "output_type": "stream",
     "text": [
      "9.22 ms ± 498 µs per loop (mean ± std. dev. of 7 runs, 100 loops each)\n"
     ]
    }
   ],
   "source": [
    "%timeit (1.0 / big_array)"
   ]
  },
  {
   "cell_type": "markdown",
   "metadata": {},
   "source": [
    "And it is very flexible, we can try to operate between two arrays:"
   ]
  },
  {
   "cell_type": "code",
   "execution_count": 5,
   "metadata": {},
   "outputs": [
    {
     "data": {
      "text/plain": [
       "array([0.        , 0.5       , 0.66666667, 0.75      , 0.8       ])"
      ]
     },
     "execution_count": 5,
     "metadata": {},
     "output_type": "execute_result"
    }
   ],
   "source": [
    "np.arange(5) / np.arange(1,6)"
   ]
  },
  {
   "cell_type": "markdown",
   "metadata": {},
   "source": [
    "In 2-d array as well:"
   ]
  },
  {
   "cell_type": "code",
   "execution_count": 2,
   "metadata": {},
   "outputs": [
    {
     "data": {
      "text/plain": [
       "array([[  1,   2,   4],\n",
       "       [  8,  16,  32],\n",
       "       [ 64, 128, 256]], dtype=int32)"
      ]
     },
     "execution_count": 2,
     "metadata": {},
     "output_type": "execute_result"
    }
   ],
   "source": [
    "x = np.arange(9).reshape((3,3))\n",
    "2 ** x"
   ]
  },
  {
   "cell_type": "markdown",
   "metadata": {},
   "source": [
    "# Explore NumPy's UFuncs"
   ]
  },
  {
   "cell_type": "markdown",
   "metadata": {},
   "source": [
    "## Array arithmetic"
   ]
  },
  {
   "cell_type": "code",
   "execution_count": 3,
   "metadata": {},
   "outputs": [
    {
     "name": "stdout",
     "output_type": "stream",
     "text": [
      "x     = [0 1 2 3]\n",
      "x + 5 = [5 6 7 8]\n",
      "x - 5 = [-5 -4 -3 -2]\n",
      "x * 2 = [0 2 4 6]\n",
      "x / 2 = [0.  0.5 1.  1.5]\n",
      "x // 2 = [0 0 1 1]\n",
      "-x     =  [ 0 -1 -2 -3]\n",
      "x ** 2 =  [0.         1.         1.41421356 1.73205081]\n",
      "x % 2  =  [0 1 0 1]\n"
     ]
    }
   ],
   "source": [
    "x = np.arange(4)\n",
    "print(\"x     =\", x)\n",
    "print(\"x + 5 =\", x + 5)\n",
    "print(\"x - 5 =\", x - 5)\n",
    "print(\"x * 2 =\", x * 2)\n",
    "print(\"x / 2 =\", x / 2)\n",
    "print(\"x // 2 =\", x // 2)  # floor division\n",
    "print(\"-x     = \", -x)\n",
    "print(\"x ** 2 = \", x ** 2)\n",
    "print(\"x % 2  = \", x % 2)"
   ]
  },
  {
   "attachments": {
    "image.png": {
     "image/png": "[encoded data removed]"
    }
   },
   "cell_type": "markdown",
   "metadata": {},
   "source": [
    "![image.png](attachment:image.png)"
   ]
  },
  {
   "cell_type": "markdown",
   "metadata": {},
   "source": [
    "## Absolute value"
   ]
  },
  {
   "cell_type": "code",
   "execution_count": null,
   "metadata": {},
   "outputs": [],
   "source": [
    "x = np.array([-2, -1, 0, 1, 2])\n",
    "np.abs(x)"
   ]
  },
  {
   "cell_type": "markdown",
   "metadata": {},
   "source": [
    "## Trig Functions"
   ]
  },
  {
   "cell_type": "code",
   "execution_count": null,
   "metadata": {},
   "outputs": [],
   "source": [
    "theta = np.linspace(0, np.pi, 3)\n",
    "print(\"theta      = \", theta)\n",
    "print(\"sin(theta) = \", np.sin(theta))\n",
    "print(\"cos(theta) = \", np.cos(theta))\n",
    "print(\"tan(theta) = \", np.tan(theta))"
   ]
  },
  {
   "cell_type": "code",
   "execution_count": 10,
   "metadata": {},
   "outputs": [
    {
     "name": "stdout",
     "output_type": "stream",
     "text": [
      "x         =  [-1, 0, 1]\n",
      "arcsin(x) =  [-1.57079633  0.          1.57079633]\n",
      "arccos(x) =  [3.14159265 1.57079633 0.        ]\n",
      "arctan(x) =  [-0.78539816  0.          0.78539816]\n"
     ]
    }
   ],
   "source": [
    "x = [-1, 0, 1]\n",
    "print(\"x         = \", x)\n",
    "print(\"arcsin(x) = \", np.arcsin(x))\n",
    "print(\"arccos(x) = \", np.arccos(x))\n",
    "print(\"arctan(x) = \", np.arctan(x))"
   ]
  },
  {
   "cell_type": "markdown",
   "metadata": {},
   "source": [
    "**Practice:** Get the value of cosine and sine at 0, $\\pi/2$, $\\pi$, $3 \\pi / 2$, $2\\pi$ using universal function and `linspace`"
   ]
  },
  {
   "cell_type": "markdown",
   "metadata": {},
   "source": [
    "**Practice:** Plotting the graph of cos and sin"
   ]
  },
  {
   "cell_type": "code",
   "execution_count": 18,
   "metadata": {
    "scrolled": true
   },
   "outputs": [
    {
     "data": {
      "text/plain": [
       "[<matplotlib.lines.Line2D at 0x254a3cde6a0>]"
      ]
     },
     "execution_count": 18,
     "metadata": {},
     "output_type": "execute_result"
    },
    {
     "data": {
      "image/png": "[encoded data removed]",
      "text/plain": [
       "<Figure size 432x288 with 1 Axes>"
      ]
     },
     "metadata": {
      "needs_background": "light"
     },
     "output_type": "display_data"
    }
   ],
   "source": [
    "import matplotlib.pyplot as plt\n",
    "# partition [-2pi, 2pi] into 1000 parts\n",
    "\n",
    "# calculate its sine and cosine value\n"
   ]
  },
  {
   "cell_type": "markdown",
   "metadata": {},
   "source": [
    "## Exponentials and Logarithms"
   ]
  },
  {
   "cell_type": "code",
   "execution_count": null,
   "metadata": {},
   "outputs": [],
   "source": [
    "x = [1, 2, 3]\n",
    "print(\"x     =\", x)\n",
    "print(\"e^x   =\", np.exp(x))\n",
    "print(\"2^x   =\", np.exp2(x))\n",
    "print(\"3^x   =\", np.power(3, x))"
   ]
  },
  {
   "cell_type": "code",
   "execution_count": null,
   "metadata": {},
   "outputs": [],
   "source": [
    "x = [1, 2, 4, 10]\n",
    "print(\"x        =\", x)\n",
    "print(\"ln(x)    =\", np.log(x))\n",
    "print(\"log2(x)  =\", np.log2(x))\n",
    "print(\"log10(x) =\", np.log10(x))"
   ]
  },
  {
   "cell_type": "markdown",
   "metadata": {},
   "source": [
    "**Practice:** Using numpy array and universal function, find out the first integer whose square root is bigger than 21.35"
   ]
  },
  {
   "cell_type": "markdown",
   "metadata": {},
   "source": [
    "## Aggregates"
   ]
  },
  {
   "cell_type": "markdown",
   "metadata": {},
   "source": [
    "For each universal function, we have the capability to call `reduce` and `accumulate` and `outer`. "
   ]
  },
  {
   "cell_type": "markdown",
   "metadata": {},
   "source": [
    "`Reduce` method repeated applies a give noperation to the elements of an array until only a single result remains"
   ]
  },
  {
   "cell_type": "code",
   "execution_count": 5,
   "metadata": {},
   "outputs": [
    {
     "data": {
      "text/plain": [
       "15"
      ]
     },
     "execution_count": 5,
     "metadata": {},
     "output_type": "execute_result"
    }
   ],
   "source": [
    "x = np.arange(1,6)\n",
    "np.add.reduce(x)"
   ]
  },
  {
   "cell_type": "markdown",
   "metadata": {},
   "source": [
    "`accumulate` store all the intermediate results of the computation"
   ]
  },
  {
   "cell_type": "code",
   "execution_count": 12,
   "metadata": {},
   "outputs": [
    {
     "data": {
      "text/plain": [
       "array([ 1,  3,  6, 10, 15], dtype=int32)"
      ]
     },
     "execution_count": 12,
     "metadata": {},
     "output_type": "execute_result"
    }
   ],
   "source": [
    "np.add.accumulate(x)"
   ]
  },
  {
   "cell_type": "code",
   "execution_count": 6,
   "metadata": {},
   "outputs": [
    {
     "data": {
      "text/plain": [
       "120"
      ]
     },
     "execution_count": 6,
     "metadata": {},
     "output_type": "execute_result"
    }
   ],
   "source": [
    "np.multiply.reduce(x)"
   ]
  },
  {
   "cell_type": "code",
   "execution_count": 8,
   "metadata": {},
   "outputs": [
    {
     "data": {
      "text/plain": [
       "array([  1,   2,   6,  24, 120], dtype=int32)"
      ]
     },
     "execution_count": 8,
     "metadata": {},
     "output_type": "execute_result"
    }
   ],
   "source": [
    "np.multiply.accumulate(x)"
   ]
  },
  {
   "cell_type": "code",
   "execution_count": 14,
   "metadata": {},
   "outputs": [],
   "source": [
    "def myfunc(a, b):\n",
    "    \"Return a-b if a>b, otherwise return a+b\"\n",
    "    if a > b:\n",
    "        return a - b\n",
    "    else:\n",
    "        return a + b"
   ]
  },
  {
   "cell_type": "markdown",
   "metadata": {},
   "source": [
    "## Outer Product"
   ]
  },
  {
   "cell_type": "markdown",
   "metadata": {},
   "source": [
    "`outer` allows you to compute output of all pairs of two inputs"
   ]
  },
  {
   "cell_type": "code",
   "execution_count": 4,
   "metadata": {},
   "outputs": [
    {
     "data": {
      "text/plain": [
       "array([[ 1,  2,  3,  4,  5],\n",
       "       [ 2,  4,  6,  8, 10],\n",
       "       [ 3,  6,  9, 12, 15],\n",
       "       [ 4,  8, 12, 16, 20],\n",
       "       [ 5, 10, 15, 20, 25]])"
      ]
     },
     "execution_count": 4,
     "metadata": {},
     "output_type": "execute_result"
    }
   ],
   "source": [
    "x = np.arange(1,6)\n",
    "np.multiply.outer(x,x)"
   ]
  }
 ],
 "metadata": {
  "kernelspec": {
   "display_name": "Python 3.8.3 64-bit",
   "language": "python",
   "name": "python38364bit270358c0458143a884e3f176124925c5"
  },
  "language_info": {
   "codemirror_mode": {
    "name": "ipython",
    "version": 3
   },
   "file_extension": ".py",
   "mimetype": "text/x-python",
   "name": "python",
   "nbconvert_exporter": "python",
   "pygments_lexer": "ipython3",
   "version": "3.8.3"
  }
 },
 "nbformat": 4,
 "nbformat_minor": 4
}
